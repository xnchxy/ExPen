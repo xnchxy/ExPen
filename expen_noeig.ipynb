{
 "cells": [
  {
   "attachments": {},
   "cell_type": "markdown",
   "metadata": {},
   "source": [
    "# Discretized 1D Kohn-Sham Equation\n",
    "\n",
    "## Problem Description\n",
    "In this part, we consider the singleparticle Hamiltonian arising from discretizing an 1D Kohn-Sham equation in electronic structure\n",
    "calculations,\n",
    "\n",
    "$$\n",
    "\\begin{aligned}\n",
    "    \\min_{X \\in \\mathbb{R}^{n\\times p}}\\quad &\\frac{1}{2} \\mathrm{tr}\\left( X^\\top LX \\right) + \\frac{\\alpha}{4} \\rho^\\top L^{-1} \\rho\\\\\n",
    "    \\text{s. t.} \\quad &X^\\top X = I_p,\n",
    "\\end{aligned}\n",
    "$$\n",
    "\n",
    "where $\\rho := \\mathrm{Diag}(XX^\\top)$, $L$ is a tri-diagonal matrix with $2$ on its diagonal and $-1$ on its subdiagonal, and $\\alpha > 0$ is a parameter. Such problems have become standard testing problems for investigating the convergence of self-consistent field methods due to its simplicity. Clearly, these problems are smooth optimization problems on the Stiefel manifold, and we show how to solve these problems by our proposed ExPen penalty function."
   ]
  },
  {
   "cell_type": "code",
   "execution_count": 1,
   "metadata": {},
   "outputs": [],
   "source": [
    "# Add essential packages\n",
    "import numpy as np\n",
    "import scipy as sp\n",
    "from stiefel import stiefel\n",
    "import time\n",
    "\n",
    "# Add essential solvers\n",
    "from scipy.optimize import fmin_bfgs, fmin_cg, fmin_l_bfgs_b, fmin_ncg\n",
    "from scipy.sparse import diags\n",
    "from scipy.sparse.linalg import spsolve"
   ]
  },
  {
   "cell_type": "code",
   "execution_count": 2,
   "metadata": {},
   "outputs": [],
   "source": [
    "# Set parameters\n",
    "n = 1000\n",
    "p = 20\n",
    "alpha = 1"
   ]
  },
  {
   "cell_type": "code",
   "execution_count": 3,
   "metadata": {},
   "outputs": [],
   "source": [
    "# Generate manifold\n",
    "M = stiefel(n,p)\n",
    "A = M.A\n",
    "C = M.C \n",
    "JA = M.JA_exact\n",
    "Xinit = M.Init_point()\n",
    "# Since those solvers only receives vectors, we need to reshape the variables in ecah iteration.\n",
    "def v2m(x):\n",
    "    return np.reshape(x, (n,p))\n",
    "\n",
    "def m2v(X):\n",
    "    return X.flatten()\n",
    "\n",
    "L = diags(np.array([-1, 2, -1]), np.array([1, 0, -1]), shape = (n,n)).tocsc()"
   ]
  },
  {
   "cell_type": "code",
   "execution_count": 4,
   "metadata": {},
   "outputs": [],
   "source": [
    "# Define obnjective function and their corresponding ExPen\n",
    "def obj_fun(X):\n",
    "    LX = L@X\n",
    "    rho = np.sum(X * X, 1)\n",
    "    Lrho = spsolve(L, rho)\n",
    "    fval = 0.5*np.sum(X* LX) + (alpha /4) * np.sum(rho * Lrho)\n",
    "    return fval\n",
    "\n",
    "\n",
    "def obj_grad(X):\n",
    "    LX = L@X\n",
    "    rho = np.sum(X * X, 1)\n",
    "    Lrho = spsolve(L, rho)\n",
    "    grad = LX + alpha * Lrho[: ,np.newaxis] * X\n",
    "    return   grad    \n",
    "\n",
    "\n",
    "\n",
    "beta = 0.5 * np.linalg.norm(Xinit.T @obj_grad(Xinit),'fro')\n",
    "\n",
    "def obj_fun_expen(y):\n",
    "    Z = v2m(y)\n",
    "    X = M.A(Z)\n",
    "    LX = L@X\n",
    "    rho = np.sum(X * X, 1)\n",
    "    Lrho = spsolve(L, rho)\n",
    "    fval = 0.5*np.sum(X* LX) + (alpha /4) * np.sum(rho * Lrho) + beta/4 * (np.linalg.norm(Z.T @ Z - np.eye(p),'fro') ** 2)\n",
    "    return fval\n",
    "\n",
    "def obj_grad_expen(y):\n",
    "    Z = v2m(y)\n",
    "    X = M.A(Z)\n",
    "    LX = L@X\n",
    "    rho = np.sum(X * X, 1)\n",
    "    Lrho = spsolve(L, rho)\n",
    "    grad = JA(Z, LX + alpha * Lrho[: ,np.newaxis] * X) + beta * (Z @(Z.T @ Z ) - Z)\n",
    "    return m2v(grad)"
   ]
  },
  {
   "cell_type": "code",
   "execution_count": 5,
   "metadata": {},
   "outputs": [],
   "source": [
    "# Call the solvers from scipy.optimize to minimize ExPen\n",
    "t_start = time.time()\n",
    "out_msg = sp.optimize.minimize(obj_fun_expen, Xinit.flatten(),method='L-BFGS-B',jac = obj_grad_expen, options={'gtol': 1e-3, 'disp': True})\n",
    "t_end = time.time()"
   ]
  },
  {
   "cell_type": "code",
   "execution_count": 6,
   "metadata": {},
   "outputs": [
    {
     "data": {
      "text/plain": [
       "      fun: 210.70870327496834\n",
       " hess_inv: <20000x20000 LbfgsInvHessProduct with dtype=float64>\n",
       "      jac: array([ 5.68108531e-05,  1.39671634e-04, -1.51495270e-04, ...,\n",
       "       -7.70268868e-04,  2.38533140e-03, -8.19179552e-05])\n",
       "  message: 'CONVERGENCE: REL_REDUCTION_OF_F_<=_FACTR*EPSMCH'\n",
       "     nfev: 977\n",
       "      nit: 892\n",
       "     njev: 977\n",
       "   status: 0\n",
       "  success: True\n",
       "        x: array([-0.12841976, -0.14660123,  0.24613424, ...,  0.07782798,\n",
       "        0.0699216 , -0.0326975 ])"
      ]
     },
     "execution_count": 6,
     "metadata": {},
     "output_type": "execute_result"
    }
   ],
   "source": [
    "out_msg"
   ]
  },
  {
   "cell_type": "code",
   "execution_count": null,
   "metadata": {},
   "outputs": [],
   "source": []
  }
 ],
 "metadata": {
  "kernelspec": {
   "display_name": "Python 3.10.4 ('cdopt')",
   "language": "python",
   "name": "python3"
  },
  "language_info": {
   "codemirror_mode": {
    "name": "ipython",
    "version": 3
   },
   "file_extension": ".py",
   "mimetype": "text/x-python",
   "name": "python",
   "nbconvert_exporter": "python",
   "pygments_lexer": "ipython3",
   "version": "3.10.4"
  },
  "vscode": {
   "interpreter": {
    "hash": "07d5d4ebd289d7e3a8d5104fbc288ece76787e92d17b572773bddf91a0286b7c"
   }
  }
 },
 "nbformat": 4,
 "nbformat_minor": 2
}
